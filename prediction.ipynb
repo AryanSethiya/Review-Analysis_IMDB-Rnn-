{
 "cells": [
  {
   "cell_type": "code",
   "execution_count": 1,
   "metadata": {},
   "outputs": [],
   "source": [
    "# Step 1: Import Libraries and Load the Model\n",
    "import numpy as np\n",
    "import tensorflow as tf\n",
    "from tensorflow.keras.datasets import imdb\n",
    "from tensorflow.keras.preprocessing import sequence\n",
    "from tensorflow.keras.models import load_model"
   ]
  },
  {
   "cell_type": "code",
   "execution_count": 2,
   "metadata": {},
   "outputs": [],
   "source": [
    "\n",
    "# Load the IMDB dataset word index\n",
    "word_index = imdb.get_word_index()\n",
    "reverse_word_index = {value: key for key, value in word_index.items()}"
   ]
  },
  {
   "cell_type": "code",
   "execution_count": 3,
   "metadata": {},
   "outputs": [
    {
     "name": "stderr",
     "output_type": "stream",
     "text": [
      "WARNING:absl:Compiled the loaded model, but the compiled metrics have yet to be built. `model.compile_metrics` will be empty until you train or evaluate the model.\n"
     ]
    },
    {
     "data": {
      "text/html": [
       "<pre style=\"white-space:pre;overflow-x:auto;line-height:normal;font-family:Menlo,'DejaVu Sans Mono',consolas,'Courier New',monospace\"><span style=\"font-weight: bold\">Model: \"sequential\"</span>\n",
       "</pre>\n"
      ],
      "text/plain": [
       "\u001b[1mModel: \"sequential\"\u001b[0m\n"
      ]
     },
     "metadata": {},
     "output_type": "display_data"
    },
    {
     "data": {
      "text/html": [
       "<pre style=\"white-space:pre;overflow-x:auto;line-height:normal;font-family:Menlo,'DejaVu Sans Mono',consolas,'Courier New',monospace\">┏━━━━━━━━━━━━━━━━━━━━━━━━━━━━━━━━━┳━━━━━━━━━━━━━━━━━━━━━━━━┳━━━━━━━━━━━━━━━┓\n",
       "┃<span style=\"font-weight: bold\"> Layer (type)                    </span>┃<span style=\"font-weight: bold\"> Output Shape           </span>┃<span style=\"font-weight: bold\">       Param # </span>┃\n",
       "┡━━━━━━━━━━━━━━━━━━━━━━━━━━━━━━━━━╇━━━━━━━━━━━━━━━━━━━━━━━━╇━━━━━━━━━━━━━━━┩\n",
       "│ embedding (<span style=\"color: #0087ff; text-decoration-color: #0087ff\">Embedding</span>)           │ (<span style=\"color: #00af00; text-decoration-color: #00af00\">32</span>, <span style=\"color: #00af00; text-decoration-color: #00af00\">500</span>, <span style=\"color: #00af00; text-decoration-color: #00af00\">128</span>)         │     <span style=\"color: #00af00; text-decoration-color: #00af00\">1,280,000</span> │\n",
       "├─────────────────────────────────┼────────────────────────┼───────────────┤\n",
       "│ simple_rnn (<span style=\"color: #0087ff; text-decoration-color: #0087ff\">SimpleRNN</span>)          │ (<span style=\"color: #00af00; text-decoration-color: #00af00\">32</span>, <span style=\"color: #00af00; text-decoration-color: #00af00\">128</span>)              │        <span style=\"color: #00af00; text-decoration-color: #00af00\">32,896</span> │\n",
       "├─────────────────────────────────┼────────────────────────┼───────────────┤\n",
       "│ dense (<span style=\"color: #0087ff; text-decoration-color: #0087ff\">Dense</span>)                   │ (<span style=\"color: #00af00; text-decoration-color: #00af00\">32</span>, <span style=\"color: #00af00; text-decoration-color: #00af00\">1</span>)                │           <span style=\"color: #00af00; text-decoration-color: #00af00\">129</span> │\n",
       "└─────────────────────────────────┴────────────────────────┴───────────────┘\n",
       "</pre>\n"
      ],
      "text/plain": [
       "┏━━━━━━━━━━━━━━━━━━━━━━━━━━━━━━━━━┳━━━━━━━━━━━━━━━━━━━━━━━━┳━━━━━━━━━━━━━━━┓\n",
       "┃\u001b[1m \u001b[0m\u001b[1mLayer (type)                   \u001b[0m\u001b[1m \u001b[0m┃\u001b[1m \u001b[0m\u001b[1mOutput Shape          \u001b[0m\u001b[1m \u001b[0m┃\u001b[1m \u001b[0m\u001b[1m      Param #\u001b[0m\u001b[1m \u001b[0m┃\n",
       "┡━━━━━━━━━━━━━━━━━━━━━━━━━━━━━━━━━╇━━━━━━━━━━━━━━━━━━━━━━━━╇━━━━━━━━━━━━━━━┩\n",
       "│ embedding (\u001b[38;5;33mEmbedding\u001b[0m)           │ (\u001b[38;5;34m32\u001b[0m, \u001b[38;5;34m500\u001b[0m, \u001b[38;5;34m128\u001b[0m)         │     \u001b[38;5;34m1,280,000\u001b[0m │\n",
       "├─────────────────────────────────┼────────────────────────┼───────────────┤\n",
       "│ simple_rnn (\u001b[38;5;33mSimpleRNN\u001b[0m)          │ (\u001b[38;5;34m32\u001b[0m, \u001b[38;5;34m128\u001b[0m)              │        \u001b[38;5;34m32,896\u001b[0m │\n",
       "├─────────────────────────────────┼────────────────────────┼───────────────┤\n",
       "│ dense (\u001b[38;5;33mDense\u001b[0m)                   │ (\u001b[38;5;34m32\u001b[0m, \u001b[38;5;34m1\u001b[0m)                │           \u001b[38;5;34m129\u001b[0m │\n",
       "└─────────────────────────────────┴────────────────────────┴───────────────┘\n"
      ]
     },
     "metadata": {},
     "output_type": "display_data"
    },
    {
     "data": {
      "text/html": [
       "<pre style=\"white-space:pre;overflow-x:auto;line-height:normal;font-family:Menlo,'DejaVu Sans Mono',consolas,'Courier New',monospace\"><span style=\"font-weight: bold\"> Total params: </span><span style=\"color: #00af00; text-decoration-color: #00af00\">1,313,027</span> (5.01 MB)\n",
       "</pre>\n"
      ],
      "text/plain": [
       "\u001b[1m Total params: \u001b[0m\u001b[38;5;34m1,313,027\u001b[0m (5.01 MB)\n"
      ]
     },
     "metadata": {},
     "output_type": "display_data"
    },
    {
     "data": {
      "text/html": [
       "<pre style=\"white-space:pre;overflow-x:auto;line-height:normal;font-family:Menlo,'DejaVu Sans Mono',consolas,'Courier New',monospace\"><span style=\"font-weight: bold\"> Trainable params: </span><span style=\"color: #00af00; text-decoration-color: #00af00\">1,313,025</span> (5.01 MB)\n",
       "</pre>\n"
      ],
      "text/plain": [
       "\u001b[1m Trainable params: \u001b[0m\u001b[38;5;34m1,313,025\u001b[0m (5.01 MB)\n"
      ]
     },
     "metadata": {},
     "output_type": "display_data"
    },
    {
     "data": {
      "text/html": [
       "<pre style=\"white-space:pre;overflow-x:auto;line-height:normal;font-family:Menlo,'DejaVu Sans Mono',consolas,'Courier New',monospace\"><span style=\"font-weight: bold\"> Non-trainable params: </span><span style=\"color: #00af00; text-decoration-color: #00af00\">0</span> (0.00 B)\n",
       "</pre>\n"
      ],
      "text/plain": [
       "\u001b[1m Non-trainable params: \u001b[0m\u001b[38;5;34m0\u001b[0m (0.00 B)\n"
      ]
     },
     "metadata": {},
     "output_type": "display_data"
    },
    {
     "data": {
      "text/html": [
       "<pre style=\"white-space:pre;overflow-x:auto;line-height:normal;font-family:Menlo,'DejaVu Sans Mono',consolas,'Courier New',monospace\"><span style=\"font-weight: bold\"> Optimizer params: </span><span style=\"color: #00af00; text-decoration-color: #00af00\">2</span> (12.00 B)\n",
       "</pre>\n"
      ],
      "text/plain": [
       "\u001b[1m Optimizer params: \u001b[0m\u001b[38;5;34m2\u001b[0m (12.00 B)\n"
      ]
     },
     "metadata": {},
     "output_type": "display_data"
    }
   ],
   "source": [
    "# Load the pre-trained model with ReLU activation\n",
    "model = load_model('simple_rnn_imdb.h5')\n",
    "model.summary()"
   ]
  },
  {
   "cell_type": "code",
   "execution_count": 4,
   "metadata": {},
   "outputs": [
    {
     "data": {
      "text/plain": [
       "[array([[ 3.3431992e-01, -5.2460456e-01,  3.4504580e-01, ...,\n",
       "         -4.9540457e-01,  4.9220943e-01, -4.7189859e-01],\n",
       "        [ 1.6917853e-02, -2.1553021e-02, -4.2163678e-02, ...,\n",
       "         -1.6660400e-02,  7.5679503e-02, -3.9035629e-04],\n",
       "        [ 4.6931624e-02, -1.1132706e-01,  7.9921568e-03, ...,\n",
       "         -1.1382993e-01,  9.8966740e-02,  2.7376801e-02],\n",
       "        ...,\n",
       "        [-2.7233195e-02, -1.2632305e-02, -2.1486539e-02, ...,\n",
       "         -3.8002841e-03, -2.7460953e-02,  2.1619366e-02],\n",
       "        [-7.8293206e-03, -6.9063525e-03, -8.4867157e-02, ...,\n",
       "         -6.7258470e-02,  1.0856712e-02,  7.2200544e-02],\n",
       "        [ 7.3863566e-02,  5.8892943e-02,  1.0673397e-01, ...,\n",
       "          5.2759215e-02, -7.0192941e-02, -4.0332984e-02]], dtype=float32),\n",
       " array([[ 0.12853067,  0.1314082 , -0.1555915 , ...,  0.07942414,\n",
       "         -0.11206387,  0.04004446],\n",
       "        [ 0.00989828, -0.04014085, -0.08353337, ...,  0.00339229,\n",
       "          0.19045204,  0.11138677],\n",
       "        [-0.04915278, -0.09127914,  0.03964052, ..., -0.0589951 ,\n",
       "          0.02504499,  0.01177561],\n",
       "        ...,\n",
       "        [ 0.13344003, -0.07088916, -0.10430391, ...,  0.08542379,\n",
       "          0.04754245,  0.11163152],\n",
       "        [-0.004842  , -0.14754972, -0.0314525 , ...,  0.09048595,\n",
       "          0.05026621, -0.09757404],\n",
       "        [-0.00882211, -0.04653984, -0.0338234 , ...,  0.08484238,\n",
       "         -0.10600031, -0.07051932]], dtype=float32),\n",
       " array([[ 0.06459867,  0.05433168, -0.05697142, ...,  0.04176629,\n",
       "          0.15637933, -0.21580921],\n",
       "        [-0.02714344, -0.05238367, -0.02467341, ...,  0.00735746,\n",
       "          0.18165688,  0.0426942 ],\n",
       "        [ 0.10287021, -0.02334552, -0.08673652, ..., -0.02895457,\n",
       "          0.158524  , -0.17078939],\n",
       "        ...,\n",
       "        [ 0.10358329,  0.02232092, -0.01970262, ..., -0.07463793,\n",
       "         -0.02841298, -0.09830438],\n",
       "        [-0.08537263, -0.08605437,  0.03521524, ...,  0.08624139,\n",
       "          0.08440821,  0.00816715],\n",
       "        [ 0.00807399,  0.19111685,  0.10504728, ...,  0.02451296,\n",
       "         -0.16945378, -0.11796428]], dtype=float32),\n",
       " array([-0.04550788, -0.00540751, -0.04325834, -0.01981853,  0.00729874,\n",
       "        -0.04722379, -0.00726667, -0.04221671, -0.02306777, -0.04618353,\n",
       "        -0.02435186,  0.01403425, -0.00109243,  0.01819051, -0.02325673,\n",
       "         0.02488362, -0.03469311, -0.00376639, -0.02286279, -0.01026763,\n",
       "        -0.01437348, -0.01237165,  0.03291867, -0.02462974, -0.02852656,\n",
       "        -0.01530872, -0.0128229 , -0.03653317, -0.0099321 , -0.02029877,\n",
       "        -0.02092459, -0.01451887, -0.00987395, -0.00318831, -0.02520919,\n",
       "        -0.02403865,  0.00187285, -0.0155374 , -0.01078105,  0.04284691,\n",
       "        -0.03123691, -0.0083552 ,  0.02153777,  0.03774891, -0.03905166,\n",
       "        -0.0230239 ,  0.00840342,  0.00982614,  0.00314195,  0.00918863,\n",
       "         0.01654668, -0.04218567, -0.00270179,  0.00011293, -0.01748201,\n",
       "        -0.03132208,  0.0321169 ,  0.00427964, -0.00089036, -0.01692671,\n",
       "        -0.03537462, -0.0084803 , -0.01431181,  0.01859764, -0.01327041,\n",
       "        -0.02992503, -0.01445456, -0.01853575, -0.02680049,  0.00837143,\n",
       "        -0.0080408 ,  0.01374492, -0.00012169, -0.00892987, -0.0251024 ,\n",
       "         0.01803903, -0.01133244,  0.03226621, -0.00719489, -0.02015125,\n",
       "        -0.02213219, -0.02716724,  0.01993616,  0.03483252, -0.01592939,\n",
       "         0.0398157 , -0.03687973,  0.01384067,  0.00498289,  0.00081063,\n",
       "        -0.04229151, -0.01074922, -0.0295099 ,  0.0413798 , -0.02760257,\n",
       "        -0.00451491, -0.01771125, -0.01871488,  0.04065906, -0.01836674,\n",
       "        -0.01161703, -0.01631327, -0.03660616,  0.03386196, -0.0101066 ,\n",
       "        -0.00810671, -0.00683384, -0.02295886, -0.03890013,  0.01666478,\n",
       "         0.02777755, -0.02658396,  0.00066111,  0.00756285, -0.0104876 ,\n",
       "        -0.01629361, -0.00894454, -0.02874465, -0.01231664, -0.01514089,\n",
       "         0.03962442, -0.01104239, -0.005444  ,  0.04324332,  0.06042189,\n",
       "        -0.0053877 , -0.0305125 , -0.01885113], dtype=float32),\n",
       " array([[ 1.78335071e-01],\n",
       "        [ 1.15186714e-01],\n",
       "        [-1.29376531e-01],\n",
       "        [ 7.84296691e-02],\n",
       "        [-2.68047810e-01],\n",
       "        [-1.27035249e-02],\n",
       "        [-1.76411062e-01],\n",
       "        [-4.73405421e-02],\n",
       "        [ 2.12677762e-01],\n",
       "        [-9.59280431e-02],\n",
       "        [ 1.70408264e-01],\n",
       "        [-2.01022640e-01],\n",
       "        [ 7.76823536e-02],\n",
       "        [-2.50490248e-01],\n",
       "        [ 1.85287431e-01],\n",
       "        [-7.08759725e-02],\n",
       "        [ 1.47334039e-01],\n",
       "        [-2.14754958e-02],\n",
       "        [ 1.49318188e-01],\n",
       "        [-1.19826272e-01],\n",
       "        [ 8.97901952e-02],\n",
       "        [-1.84167132e-01],\n",
       "        [ 6.49801940e-02],\n",
       "        [ 4.48060594e-02],\n",
       "        [ 1.59538001e-01],\n",
       "        [ 3.95582104e-03],\n",
       "        [-1.73739627e-01],\n",
       "        [ 1.35546938e-01],\n",
       "        [ 1.58196494e-01],\n",
       "        [-9.49438065e-02],\n",
       "        [ 2.03110144e-01],\n",
       "        [ 2.96225417e-02],\n",
       "        [-1.29980430e-01],\n",
       "        [ 1.45186320e-01],\n",
       "        [ 1.08080544e-01],\n",
       "        [-3.27281728e-02],\n",
       "        [-3.83012071e-02],\n",
       "        [ 7.84157068e-02],\n",
       "        [ 7.16445744e-02],\n",
       "        [ 2.84860730e-02],\n",
       "        [ 5.95653057e-02],\n",
       "        [-7.25010410e-02],\n",
       "        [ 1.06712602e-01],\n",
       "        [ 2.25196138e-01],\n",
       "        [ 2.79439688e-02],\n",
       "        [ 1.63159534e-01],\n",
       "        [-3.20591718e-01],\n",
       "        [ 1.39837712e-01],\n",
       "        [ 1.34876788e-01],\n",
       "        [-1.78157285e-01],\n",
       "        [ 1.56522498e-01],\n",
       "        [ 1.57049164e-01],\n",
       "        [ 3.91716994e-02],\n",
       "        [-1.18814982e-01],\n",
       "        [ 1.72366351e-01],\n",
       "        [ 1.82257101e-01],\n",
       "        [ 1.02701075e-01],\n",
       "        [ 1.45668060e-01],\n",
       "        [ 1.48149088e-01],\n",
       "        [ 7.23690763e-02],\n",
       "        [ 6.15265258e-02],\n",
       "        [ 1.89936906e-01],\n",
       "        [ 8.90492946e-02],\n",
       "        [ 4.10313129e-01],\n",
       "        [-2.04721048e-01],\n",
       "        [ 1.19483478e-01],\n",
       "        [ 7.01843798e-02],\n",
       "        [ 3.04174945e-02],\n",
       "        [ 3.34874615e-02],\n",
       "        [ 3.65001149e-02],\n",
       "        [-7.74942264e-02],\n",
       "        [ 1.44362468e-02],\n",
       "        [-1.87181950e-01],\n",
       "        [-2.12776229e-01],\n",
       "        [ 1.16758518e-01],\n",
       "        [-1.38982445e-01],\n",
       "        [-1.58170760e-01],\n",
       "        [ 1.69668853e-01],\n",
       "        [-3.88752110e-02],\n",
       "        [ 1.94453761e-01],\n",
       "        [ 1.57015920e-01],\n",
       "        [-1.44793943e-01],\n",
       "        [-5.58161933e-04],\n",
       "        [-1.44957587e-01],\n",
       "        [ 1.29307687e-01],\n",
       "        [-1.40033975e-01],\n",
       "        [-2.21511014e-02],\n",
       "        [ 3.83529007e-01],\n",
       "        [-2.14133695e-01],\n",
       "        [-1.85070947e-01],\n",
       "        [ 1.05465792e-01],\n",
       "        [ 1.63497612e-01],\n",
       "        [-1.42644629e-01],\n",
       "        [-1.91316858e-01],\n",
       "        [-6.96502104e-02],\n",
       "        [-4.40885983e-02],\n",
       "        [ 4.22753952e-03],\n",
       "        [-1.45300537e-01],\n",
       "        [-1.95795372e-02],\n",
       "        [-1.15557760e-01],\n",
       "        [-2.19025567e-01],\n",
       "        [-8.06725845e-02],\n",
       "        [ 1.99385881e-01],\n",
       "        [-2.07575381e-01],\n",
       "        [ 1.17066570e-01],\n",
       "        [-1.26175776e-01],\n",
       "        [-6.14058614e-01],\n",
       "        [ 2.97322050e-02],\n",
       "        [ 8.34842473e-02],\n",
       "        [-1.06637485e-01],\n",
       "        [ 1.06612138e-01],\n",
       "        [-1.74009547e-01],\n",
       "        [-8.16216692e-02],\n",
       "        [ 2.11987644e-02],\n",
       "        [ 5.63553050e-02],\n",
       "        [-8.54107738e-02],\n",
       "        [-1.44318342e-01],\n",
       "        [ 1.40456676e-01],\n",
       "        [-2.24507172e-02],\n",
       "        [-1.72137469e-01],\n",
       "        [ 1.45790115e-01],\n",
       "        [-1.79708049e-01],\n",
       "        [-2.56692022e-02],\n",
       "        [ 3.37189250e-02],\n",
       "        [ 7.65243918e-02],\n",
       "        [-4.72929887e-02],\n",
       "        [ 3.49420644e-02],\n",
       "        [ 6.40989374e-03]], dtype=float32),\n",
       " array([0.08901032], dtype=float32)]"
      ]
     },
     "execution_count": 4,
     "metadata": {},
     "output_type": "execute_result"
    }
   ],
   "source": [
    "model.get_weights()"
   ]
  },
  {
   "cell_type": "code",
   "execution_count": 5,
   "metadata": {},
   "outputs": [],
   "source": [
    "# Step 2: Helper Functions\n",
    "# Function to decode reviews\n",
    "def decode_review(encoded_review):\n",
    "    return ' '.join([reverse_word_index.get(i - 3, '?') for i in encoded_review])\n",
    "\n",
    "# Function to preprocess user input\n",
    "def preprocess_text(text):\n",
    "    words = text.lower().split()\n",
    "    encoded_review = [word_index.get(word, 2) + 3 for word in words]\n",
    "    padded_review = sequence.pad_sequences([encoded_review], maxlen=500)\n",
    "    return padded_review"
   ]
  },
  {
   "cell_type": "code",
   "execution_count": 6,
   "metadata": {},
   "outputs": [],
   "source": [
    "### Prediction  function\n",
    "\n",
    "def predict_sentiment(review):\n",
    "    preprocessed_input=preprocess_text(review)\n",
    "\n",
    "    prediction=model.predict(preprocessed_input)\n",
    "\n",
    "    sentiment = 'Positive' if prediction[0][0] > 0.5 else 'Negative'\n",
    "    \n",
    "    return sentiment, prediction[0][0]\n",
    "\n"
   ]
  },
  {
   "cell_type": "code",
   "execution_count": 7,
   "metadata": {},
   "outputs": [
    {
     "name": "stdout",
     "output_type": "stream",
     "text": [
      "\u001b[1m1/1\u001b[0m \u001b[32m━━━━━━━━━━━━━━━━━━━━\u001b[0m\u001b[37m\u001b[0m \u001b[1m0s\u001b[0m 458ms/step\n",
      "Review: This movie was fantastic! The acting was great and the plot was thrilling.\n",
      "Sentiment: Negative\n",
      "Prediction Score: 0.34031549096107483\n"
     ]
    }
   ],
   "source": [
    "# Step 4: User Input and Prediction\n",
    "# Example review for prediction\n",
    "example_review = \"This movie was fantastic! The acting was great and the plot was thrilling.\"\n",
    "\n",
    "sentiment,score=predict_sentiment(example_review)\n",
    "\n",
    "print(f'Review: {example_review}')\n",
    "print(f'Sentiment: {sentiment}')\n",
    "print(f'Prediction Score: {score}')"
   ]
  },
  {
   "cell_type": "code",
   "execution_count": null,
   "metadata": {},
   "outputs": [],
   "source": []
  },
  {
   "cell_type": "code",
   "execution_count": null,
   "metadata": {},
   "outputs": [],
   "source": []
  },
  {
   "cell_type": "code",
   "execution_count": null,
   "metadata": {},
   "outputs": [],
   "source": []
  },
  {
   "cell_type": "code",
   "execution_count": null,
   "metadata": {},
   "outputs": [],
   "source": []
  }
 ],
 "metadata": {
  "kernelspec": {
   "display_name": "venv",
   "language": "python",
   "name": "python3"
  },
  "language_info": {
   "codemirror_mode": {
    "name": "ipython",
    "version": 3
   },
   "file_extension": ".py",
   "mimetype": "text/x-python",
   "name": "python",
   "nbconvert_exporter": "python",
   "pygments_lexer": "ipython3",
   "version": "3.11.0"
  }
 },
 "nbformat": 4,
 "nbformat_minor": 2
}
